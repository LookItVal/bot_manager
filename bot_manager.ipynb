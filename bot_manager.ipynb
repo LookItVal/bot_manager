{
  "nbformat": 4,
  "nbformat_minor": 0,
  "metadata": {
    "colab": {
      "name": "bot_manager",
      "provenance": [],
      "toc_visible": true,
      "authorship_tag": "ABX9TyOhRfUH73HybTLfpbfFPEpi",
      "include_colab_link": true
    },
    "kernelspec": {
      "name": "python3",
      "display_name": "Python 3"
    },
    "language_info": {
      "name": "python"
    }
  },
  "cells": [
    {
      "cell_type": "markdown",
      "metadata": {
        "id": "view-in-github",
        "colab_type": "text"
      },
      "source": [
        "<a href=\"https://colab.research.google.com/github/LookItVal/bot_manager/blob/main/bot_manager.ipynb\" target=\"_parent\"><img src=\"https://colab.research.google.com/assets/colab-badge.svg\" alt=\"Open In Colab\"/></a>"
      ]
    },
    {
      "cell_type": "markdown",
      "metadata": {
        "id": "LAJOmF_2So8H"
      },
      "source": [
        "# Server Outline"
      ]
    },
    {
      "cell_type": "markdown",
      "metadata": {
        "id": "sd1ayqPtqr1J"
      },
      "source": [
        "Basic Functionality:\n",
        "\n",
        "* Need to set a series of roles. I was thinking this could also include some \"Chosen\" rolls that may relate to music preferences (that are effectively arbitrary)\n",
        "* Organize the Chat rooms and categories.\n",
        "> * a server description/rule room. i want this to be really simple, i dont want people to be turned off imediately from complexity\n",
        "> * a general/off topic room\n",
        "> * a category for anything or all genres\n",
        ">> * initially the Album of the Week bot can sit here and we will prioritize this bot initially but leave room for if we decide to do other \"games\" or projects\n",
        ">> * there should only be one voice chat in each Category. I would like to eventually have listening parties for each game or project we do but only one voice chat per category\n",
        "> * eventually I would like to expand to new categories with specific niches of music (ie, classic rock, jazz, metal, or maybe even eras of music or subgenres like 'progressive' which may span across many supergenras like prog jazz, prog rock, prog metal ect)\n",
        "* I am not sold on the server name so if you have any ideas i am open to having that conversation\n",
        "\n",
        "\n",
        "Bots\n",
        "* Album of the Week\n",
        "> * this is what is being worked on now and I would like most priority to go into this bot initially\n",
        "> * needs to be able to !set_raffle\n",
        ">> * the spotify API will be the best method to pull data on albums\n",
        "> * needs to on a schedule Pick raffle\n",
        ">> * i think we can make it so its pfp changes to the album art without too much trouble\n",
        "> * needs a SIMPLE way to Review the album in its entirity (and possibly with recorded text notes on the album as well)\n",
        "\n",
        "\n",
        "\n",
        "\n",
        "\n"
      ]
    }
  ]
}