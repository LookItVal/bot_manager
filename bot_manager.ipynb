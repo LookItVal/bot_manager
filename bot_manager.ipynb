{
  "nbformat": 4,
  "nbformat_minor": 0,
  "metadata": {
    "colab": {
      "name": "bot_manager",
      "provenance": [],
      "collapsed_sections": [],
      "toc_visible": true,
      "authorship_tag": "ABX9TyMMF7EvUGeQuntdmrBAVX61",
      "include_colab_link": true
    },
    "kernelspec": {
      "name": "python3",
      "display_name": "Python 3"
    },
    "language_info": {
      "name": "python"
    }
  },
  "cells": [
    {
      "cell_type": "markdown",
      "metadata": {
        "id": "view-in-github",
        "colab_type": "text"
      },
      "source": [
        "<a href=\"https://colab.research.google.com/github/LookItVal/bot_manager/blob/main/bot_manager.ipynb\" target=\"_parent\"><img src=\"https://colab.research.google.com/assets/colab-badge.svg\" alt=\"Open In Colab\"/></a>"
      ]
    },
    {
      "cell_type": "markdown",
      "metadata": {
        "id": "LAJOmF_2So8H"
      },
      "source": [
        "# Server Outline (legacy)"
      ]
    },
    {
      "cell_type": "markdown",
      "metadata": {
        "id": "sd1ayqPtqr1J"
      },
      "source": [
        "Basic Functionality:\n",
        "\n",
        "* Need to set a series of roles. I was thinking this could also include some \"Chosen\" rolls that may relate to music preferences (that are effectively arbitrary)\n",
        "* Organize the Chat rooms and categories.\n",
        "> * a server description/rule room. i want this to be really simple, i dont want people to be turned off imediately from complexity\n",
        "> * a general/off topic room\n",
        "> * a category for anything or all genres\n",
        ">> * initially the Album of the Week bot can sit here and we will prioritize this bot initially but leave room for if we decide to do other \"games\" or projects\n",
        ">> * there should only be one voice chat in each Category. I would like to eventually have listening parties for each game or project we do but only one voice chat per category\n",
        "> * eventually I would like to expand to new categories with specific niches of music (ie, classic rock, jazz, metal, or maybe even eras of music or subgenres like 'progressive' which may span across many supergenras like prog jazz, prog rock, prog metal ect)\n",
        "* I am not sold on the server name so if you have any ideas i am open to having that conversation\n",
        "\n",
        "\n",
        "Bots\n",
        "* Album of the Week\n",
        "> * this is what is being worked on now and I would like most priority to go into this bot initially\n",
        "> * needs to be able to !set_raffle\n",
        ">> * the spotify API will be the best method to pull data on albums\n",
        "> * needs to on a schedule Pick raffle\n",
        ">> * i think we can make it so its pfp changes to the album art without too much trouble\n",
        "> * needs a SIMPLE way to Review the album in its entirity (and possibly with recorded text notes on the album as well)\n",
        "* New Music Raffle\n",
        "> (copied from the discord chat, August 6th, 2021) \n",
        ">\n",
        "genre raffle:\n",
        "we raffle for a single genre of music without knowing what album we are listening to,\n",
        "and then that is chosen by the bot. the bot then sends 3 albums from different bands and are given 1 preview from each album (the spotify based ones, that give you like a snippet of the song).\n",
        "we then vote on what album is chosen\n",
        "and that is an album of the week.\n",
        "we could do like minigames on how the aotw is chosen\n",
        "or maybe we do that with individual listening parties,\n",
        "that might get better retention.\n",
        "> Here is a good library for genre exploration that would be useful for that: https://github.com/echonest/pyechonest\n",
        "\n",
        "\n",
        "\n",
        "\n",
        "\n",
        "\n"
      ]
    },
    {
      "cell_type": "markdown",
      "metadata": {
        "id": "L33FmzC23hne"
      },
      "source": [
        "TODO:\n",
        "\n",
        "Get Artist Class working. whenever anything says the name of the album it should also say the name of the artist at a bare minimum.\n",
        "\n",
        "everything about reviewing albums needs to get working.\n",
        "\n",
        "general code cleanup should be done at some point."
      ]
    },
    {
      "cell_type": "markdown",
      "metadata": {
        "id": "SrxvPIIz--Vq"
      },
      "source": [
        "# Discord Overview"
      ]
    },
    {
      "cell_type": "markdown",
      "metadata": {
        "id": "iXqk7256ADz1"
      },
      "source": [
        "## Server Organization"
      ]
    },
    {
      "cell_type": "markdown",
      "metadata": {
        "id": "P38k_hdFAKIT"
      },
      "source": [
        "## album-of-the-week-bot"
      ]
    },
    {
      "cell_type": "markdown",
      "metadata": {
        "id": "Y0IPlVCSAy9P"
      },
      "source": [
        "### !pick"
      ]
    },
    {
      "cell_type": "markdown",
      "metadata": {
        "id": "E4w4coXfF6RE"
      },
      "source": [
        "> Triggers the bot to pick an album of the week imediately (keeping in mind the 'picker' task will do this automatically every week)\n",
        ">\n",
        "> Pulls every raffle from the given category and at random chooses and album of the week.\n",
        ">\n",
        "> If there were raffles to pull from it should respond:\n",
        ">> A new album has been chosen for the week:\n",
        ">>\n",
        ">> The Album for this week is: {album}, which was chosen by:\n",
        ">>\n",
        ">> {users}\n",
        ">>\n",
        ">> {embed with album name hyperlinked to the spotify album}\n",
        ">\n",
        "> If there were no raffles to pull it should respond:\n",
        ">> No Raffles set for this category. There will be no Album for this week."
      ]
    },
    {
      "cell_type": "markdown",
      "metadata": {
        "id": "BY-tWBcAA3Kx"
      },
      "source": [
        "### !ping"
      ]
    },
    {
      "cell_type": "markdown",
      "metadata": {
        "id": "t79eWlnAFgQR"
      },
      "source": [
        "> Simple call and response command that comes standard with all bots within this server. Used to verify proper connection between the python client and the discord server.\n",
        ">\n",
        "> Bot should respond with:\n",
        ">> pong"
      ]
    },
    {
      "cell_type": "markdown",
      "metadata": {
        "id": "-WPbqXAOBEZh"
      },
      "source": [
        "### !raffle {arg}"
      ]
    },
    {
      "cell_type": "markdown",
      "metadata": {
        "id": "1hV_1f-4HY_2"
      },
      "source": [
        "> arg is optional, if given it should be a spotify link to an album.\n",
        ">\n",
        "> Sets the users personal raffle for the album of the week within that category.\n",
        ">\n",
        "> Each user can only have one raffle per category, if the user already has a raffle set it overwrites that raffle.\n",
        ">\n",
        "> Users can not change their raffle if their album is currently the album of the week. This prevents anyone from winning the raffle twice in a row.\n",
        ">\n",
        "> If raffle change is allowed (assuming user is not a current raffle winner) the bot should respond:\n",
        ">> Raffle Set.\n",
        ">\n",
        "> If the raffle change is not allowed because the user is currently a raffle winner the bot should respond:\n",
        ">> Cannot change raffle while your album has been picked.\n",
        ">\n",
        "> If no arg given with the command, the bot will inform you of your currently chosen raffle.\n",
        ">\n",
        "> If you have a currently picked raffle for the category the bot should respond:\n",
        ">> Your current raffle for this category is: {album}\n",
        ">>\n",
        ">> {embed with album name hyperlinked to spotify link to album}\n",
        ">\n",
        "> If you do not have a raffle set for the category the bot should respond:\n",
        ">> You currently have no chosen raffle. To set your raffle send \"!raffle\" followed by a spotify link to the album you would like to pick."
      ]
    },
    {
      "cell_type": "markdown",
      "metadata": {
        "id": "vIudnUoPA_IR"
      },
      "source": [
        "### !review {arg}"
      ]
    },
    {
      "cell_type": "markdown",
      "metadata": {
        "id": "QWjTK-UEKWU_"
      },
      "source": [
        "> arg is optional, if given it should be a spotify link to an album\n",
        ">\n",
        "> Begins a review process for an album. If an album is given as an argument it will review that album, if not it will review the current album of the week.\n",
        ">\n",
        ">FOUND BUG HOLD ON"
      ]
    },
    {
      "cell_type": "markdown",
      "metadata": {
        "id": "JRLeSNzpBIJB"
      },
      "source": [
        "### !schedule"
      ]
    },
    {
      "cell_type": "markdown",
      "metadata": {
        "id": "ofgLMx86BQAn"
      },
      "source": [
        "### picker (task)"
      ]
    },
    {
      "cell_type": "markdown",
      "metadata": {
        "id": "7jLI7xGr--tY"
      },
      "source": [
        "# bot_manager Overview"
      ]
    },
    {
      "cell_type": "markdown",
      "metadata": {
        "id": "AJs0gsCJ-_AW"
      },
      "source": [
        "# ToDo"
      ]
    },
    {
      "cell_type": "markdown",
      "metadata": {
        "id": "VId9J-RJwlWK"
      },
      "source": [
        "Bug Fix: When using !review {spotify album} command with a spotify link, and not just the default !review command with no argument, it sets up the form correctly but when it tries to save the review and display the finished review it throws an error.\n",
        "> The reason for this is likely because when it saves the review it grabs the album from the bot metadata for the current album of the week, it should pull from the album given as an argument."
      ]
    }
  ]
}