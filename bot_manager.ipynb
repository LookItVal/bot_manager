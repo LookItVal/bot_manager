{
  "nbformat": 4,
  "nbformat_minor": 0,
  "metadata": {
    "colab": {
      "name": "bot_manager",
      "provenance": [],
      "collapsed_sections": [
        "Y0IPlVCSAy9P",
        "_JNTTYdme2hm",
        "O1r7pTCCYRCf",
        "F8xmUH5TJ2v_",
        "IbcMT-8YBl7b",
        "eUqo8vIDBqfW",
        "Sw2v6CmwesVf",
        "WoOTDnEXemyt",
        "0IqrtrAnXeWG",
        "8KyhFA4YV7ME",
        "oTlc4j4iYTiy",
        "DmPmJ7sHhDQ_",
        "K-cGZZwIBXWQ",
        "fdmZNULtAyE9",
        "u009uGa9afMn",
        "B9KgY0fChJGg",
        "3bmrK2MC_s98",
        "RxgvGTZNnrAZ"
      ],
      "toc_visible": true,
      "authorship_tag": "ABX9TyMC8EtHM4DTIqauw7iHBYAr",
      "include_colab_link": true
    },
    "kernelspec": {
      "name": "python3",
      "display_name": "Python 3"
    },
    "language_info": {
      "name": "python"
    }
  },
  "cells": [
    {
      "cell_type": "markdown",
      "metadata": {
        "id": "view-in-github",
        "colab_type": "text"
      },
      "source": [
        "<a href=\"https://colab.research.google.com/github/LookItVal/bot_manager/blob/main/bot_manager.ipynb\" target=\"_parent\"><img src=\"https://colab.research.google.com/assets/colab-badge.svg\" alt=\"Open In Colab\"/></a>"
      ]
    },
    {
      "cell_type": "markdown",
      "metadata": {
        "id": "SrxvPIIz--Vq"
      },
      "source": [
        "# Discord Overview"
      ]
    },
    {
      "cell_type": "markdown",
      "metadata": {
        "id": "iXqk7256ADz1"
      },
      "source": [
        ">## Server Organization"
      ]
    },
    {
      "cell_type": "markdown",
      "metadata": {
        "id": "yDZK5wA9fq0-"
      },
      "source": [
        ">>### Meta"
      ]
    },
    {
      "cell_type": "markdown",
      "metadata": {
        "id": "94sLmKTphG62"
      },
      "source": [
        ">>>#### #welcome"
      ]
    },
    {
      "cell_type": "markdown",
      "metadata": {
        "id": "u99Iutf4iFc6"
      },
      "source": [
        ">>>> Here is where everyone will first land when joining the server\n",
        ">>>>\n",
        ">>>> A bot should automatically direct them to the introduction page for more info\n",
        ">>>>\n",
        ">>>> This is also where any other server messages will happen, like someone boosting the server"
      ]
    },
    {
      "cell_type": "markdown",
      "metadata": {
        "id": "zOh4OlMHgICU"
      },
      "source": [
        ">>>#### #introduction"
      ]
    },
    {
      "cell_type": "markdown",
      "metadata": {
        "id": "aOVo68jWicZQ"
      },
      "source": [
        ">>>> This is will have a basic introduction of what this server is followed by some basic complete server wide rules.\n",
        ">>>>\n",
        ">>>> The text will be as follows\n",
        ">>>>> Welcome to The Coda Crew! This is a place to talk about music, guided by a series of Bots with different games.\n",
        ">>>>>\n",
        ">>>>> There is a channel category for different kinds of music. The rules detailed for each category are listed in the <#882126749457088512> channel\n",
        ">>>>>\n",
        ">>>>> There is a channel in each category for each game. The rules for each game are listed in the <#882126779123380265> channel\n",
        ">>>>>\n",
        ">>>>> All channels and categories house the following server wide rules:\n",
        ">>>>>\n",
        ">>>>> 1: Be kind to eachother\n",
        ">>>>>> a: No making fun of others because of what music they listen to\n",
        ">>>>>>\n",
        ">>>>>> b: Misogyny, Racism, and Transphobia will not be tolerated\n",
        ">>>>>\n",
        ">>>>> 2: No NSFW content\n",
        ">>>>>\n",
        ">>>>> 3: Please report any Bugs you find to the <#882131668071251968> channel\n",
        ">>>>>\n",
        ">>>>> Click the :Coda: reaction to agree to these rules, and join the rest of the server."
      ]
    },
    {
      "cell_type": "markdown",
      "metadata": {
        "id": "BjRtaPHtgaCf"
      },
      "source": [
        ">>>#### #roles"
      ]
    },
    {
      "cell_type": "markdown",
      "metadata": {
        "id": "w_-HDV-wrSui"
      },
      "source": [
        ">>>> Here will is where you will go to set roles\n",
        ">>>>\n",
        ">>>> Pronouns will be set as following:\n",
        ">>>>>React here to set your accepted pronouns\n",
        ">>>>>\n",
        ">>>>>:female_sign: for she/her\n",
        ">>>>>\n",
        ">>>>>:male_sign: for he/him\n",
        ">>>>>\n",
        ">>>>>:o2: for they/them"
      ]
    },
    {
      "cell_type": "markdown",
      "metadata": {
        "id": "OSiXsM0Eh0G9"
      },
      "source": [
        ">>>#### #categories"
      ]
    },
    {
      "cell_type": "markdown",
      "metadata": {
        "id": "oVzsPyqHr1fV"
      },
      "source": [
        ">>>> Here will list the rules for each category\n",
        ">>>>\n",
        ">>>> These will be set by the bots, but categories wont be added until a later update\n",
        ">>>>\n",
        ">>>> For now this will house one message that reads:\n",
        ">>>>> There is only one category right now \"Any and All\" which accepts all kinds of music."
      ]
    },
    {
      "cell_type": "markdown",
      "metadata": {
        "id": "Ycv9o6BLqR6L"
      },
      "source": [
        ">>>#### #game-rules"
      ]
    },
    {
      "cell_type": "markdown",
      "metadata": {
        "id": "IIsuEbd1tAfh"
      },
      "source": [
        ">>>> Here will list the rules for each game\n",
        ">>>>\n",
        ">>>> These will be set by the bots, but categories wont be added until a later update\n",
        ">>>>\n",
        ">>>> For now this will house one message that reads:\n",
        ">>>>> There is only one game right now \"Album of the Week\"\n",
        ">>>>>\n",
        ">>>>> To play, set your raffle with the !raffle {album} command, just replace {album} with a link to the desired album on spotify\n",
        ">>>>>\n",
        ">>>>> You can only have one album set at a time, to see what your raffle is currently set as, use the !raffle command alone.\n",
        ">>>>>\n",
        ">>>>> Every Monday at 04:00 the bot will choose an album at random from all the raffles that have been set\n",
        ">>>>>\n",
        ">>>>> Everyone can then listen to the album for the week, and at any point !review the album. I encourage you to listen to each album more than once, perception of music changes as it becomes familiar.\n",
        ">>>>>\n",
        ">>>>> Use the !review command to set your review for the album of the week. You can do this as many times as you want, each new review overwrites the last. Simply respond to the bots 7 questions with a number from 1-10, decimals are allowed.\n",
        ">>>>>\n",
        ">>>>> If your album is picked, your raffle is locked until the next album is chosen, this means no one will win the raffle twice in a row"
      ]
    },
    {
      "cell_type": "markdown",
      "metadata": {
        "id": "HLtqf0ouqW-2"
      },
      "source": [
        ">>>#### #bug-reports"
      ]
    },
    {
      "cell_type": "markdown",
      "metadata": {
        "id": "Hgk_ERUcwpRZ"
      },
      "source": [
        ">>>> Here anyone can message and report bugs they experienced. Bugs will be deleted as they are fixed."
      ]
    },
    {
      "cell_type": "markdown",
      "metadata": {
        "id": "P38k_hdFAKIT"
      },
      "source": [
        ">## album-of-the-week-bot"
      ]
    },
    {
      "cell_type": "markdown",
      "metadata": {
        "id": "Y0IPlVCSAy9P"
      },
      "source": [
        ">>### !pick"
      ]
    },
    {
      "cell_type": "markdown",
      "metadata": {
        "id": "E4w4coXfF6RE"
      },
      "source": [
        ">>> Triggers the bot to pick an album of the week imediately (keeping in mind the 'picker' task will do this automatically every week)\n",
        ">>>\n",
        ">>> Pulls every raffle from the given category and at random chooses and album of the week.\n",
        ">>>\n",
        ">>> If there were raffles to pull from it should respond:\n",
        ">>>> A new album has been chosen for the week:\n",
        ">>>>\n",
        ">>>> The Album for this week is: {album}, which was chosen by:\n",
        ">>>>\n",
        ">>>> {users}\n",
        ">>>>\n",
        ">>>> {embed with album name hyperlinked to the spotify album}\n",
        ">>>\n",
        ">>> If there were no raffles to pull it should respond:\n",
        ">>>> No Raffles set for this category. There will be no Album for this week."
      ]
    },
    {
      "cell_type": "markdown",
      "metadata": {
        "id": "BY-tWBcAA3Kx"
      },
      "source": [
        ">>### !ping"
      ]
    },
    {
      "cell_type": "markdown",
      "metadata": {
        "id": "t79eWlnAFgQR"
      },
      "source": [
        ">>> Simple call and response command that comes standard with all bots within this server. Used to verify proper connection between the python client and the discord server.\n",
        ">>>\n",
        ">>> Bot should respond with:\n",
        ">>>> pong"
      ]
    },
    {
      "cell_type": "markdown",
      "metadata": {
        "id": "-WPbqXAOBEZh"
      },
      "source": [
        ">>### !raffle {arg}"
      ]
    },
    {
      "cell_type": "markdown",
      "metadata": {
        "id": "1hV_1f-4HY_2"
      },
      "source": [
        ">>> arg is optional, if given it should be a spotify link to an album.\n",
        ">>>\n",
        ">>> Sets the users personal raffle for the album of the week within that category.\n",
        ">>>\n",
        ">>> Each user can only have one raffle per category, if the user already has a raffle set it overwrites that raffle.\n",
        ">>>\n",
        ">>> Users can not change their raffle if their album is currently the album of the week. This prevents anyone from winning the raffle twice in a row.\n",
        ">>>\n",
        ">>> If raffle change is allowed (assuming user is not a current raffle winner) the bot should respond:\n",
        ">>>> Raffle Set.\n",
        ">>>\n",
        ">>> If the raffle change is not allowed because the user is currently a raffle winner the bot should respond:\n",
        ">>>> Cannot change raffle while your album has been picked.\n",
        ">>>\n",
        ">>> If no arg given with the command, the bot will inform you of your currently chosen raffle.\n",
        ">>>\n",
        ">>> If you have a currently picked raffle for the category the bot should respond:\n",
        ">>>> Your current raffle for this category is: {album}\n",
        ">>>>\n",
        ">>>> {embed with album name hyperlinked to spotify link to album}\n",
        ">>>\n",
        ">>> If you do not have a raffle set for the category the bot should respond:\n",
        ">>>> You currently have no chosen raffle. To set your raffle send \"!raffle\" followed by a spotify link to the album you would like to pick."
      ]
    },
    {
      "cell_type": "markdown",
      "metadata": {
        "id": "vIudnUoPA_IR"
      },
      "source": [
        ">>### !review {arg}"
      ]
    },
    {
      "cell_type": "markdown",
      "metadata": {
        "id": "QWjTK-UEKWU_"
      },
      "source": [
        ">>> arg is optional, if given it should be a spotify link to an album\n",
        ">>>\n",
        ">>> Begins a review process for an album. If an album is given as an argument it will review that album, if not it will review the current album of the week.\n",
        ">>>> NOTE: as of right now you can not review specific albums. If attempted, the bot will respond the following:\n",
        ">>>>> Sorry! This command has been shut off due to known bugs.\n",
        ">>>>>\n",
        ">>>>> You can still review the album of the week, just not specific albums.\n",
        ">>>>>\n",
        ">>>>> To Review the album of the week, simply send \"!review\" with no parameter and follow the prompts.\n",
        ">>>\n",
        ">>> Upon reviewing the bot will send an embed with the album title, and a question asking you to rate a specific aspect of the album from 1-10.\n",
        ">>>\n",
        ">>> The user is to respond with only a number from 1-10, the bot will not accept anything else.\n",
        ">>>\n",
        ">>> Once the user answers the bot will delete the users response and edit the embed to say the next question. there are 7 questions.\n",
        ">>>> KNOWN ERROR: The bot can be slow to edit the question. If the user answers the next question before the bot has edited the embed the bot will not recognize the response. I do not know if this problem can be solved unless we either 1: change the source code to the 'form' library, or 2: we write the whole thing by hand and dont use the 'form' library at all.\n",
        ">>>\n",
        ">>> Once all the questions have been answered, the bot will save the response, delete the previous embed and send a New embed with the finished list review.\n",
        ">>>\n",
        ">>> The bot will save a spot for 'Notes' with a null value, but there is currently no way to actually write notes yet. The notes will not get displayed unless its value is no longer null"
      ]
    },
    {
      "cell_type": "markdown",
      "metadata": {
        "id": "JRLeSNzpBIJB"
      },
      "source": [
        ">>### !schedule {args}"
      ]
    },
    {
      "cell_type": "markdown",
      "metadata": {
        "id": "EBcISt6_Nz1e"
      },
      "source": [
        ">>> arg is required, must be one of the following:\n",
        ">>>> A day of the week, not abreviated. capitalizations do not matter. ie: !schedule Monday\n",
        ">>>>\n",
        ">>>> A time of the day, in 24 hour time. ie: !schedule 17:00\n",
        ">>>>\n",
        ">>>> A Day of the week followed by a time of the day, following the same rules. ie: !schedule Monday 17:00\n",
        ">>>\n",
        ">>> Sets the timeline for when the Picker task runs the pick command. if only given on arg it only changes that argument and leaves the other the same.\n",
        ">>>\n",
        ">>> The bot responds with the newly set schedule, ie:\n",
        ">>>> Schedule set for Monday at 17:00"
      ]
    },
    {
      "cell_type": "markdown",
      "metadata": {
        "id": "ofgLMx86BQAn"
      },
      "source": [
        ">>### picker (task)"
      ]
    },
    {
      "cell_type": "markdown",
      "metadata": {
        "id": "QINIXBU2cN53"
      },
      "source": [
        ">>> Automatically run task that begins the moment the bot goes live. for every channel that has a schedule set, this will check if the current time is equal to the scheduled time.\n",
        ">>>\n",
        ">>> once the scheduled time has been met, it runs the same command as !pick\n",
        ">>>> KNOWN ERROR: If there is no schedule set when the bot begins running, the the picker will never run for that category, even if a new schedule is set for it. The only way to get it to run is if you set the schedule, then end the program and reopen it.\n",
        ">>>>\n",
        ">>>> The bot will update to new schedules without a reset, just not if there was originally no schedule set."
      ]
    },
    {
      "cell_type": "markdown",
      "metadata": {
        "id": "7jLI7xGr--tY"
      },
      "source": [
        "# bot_manager Overview"
      ]
    },
    {
      "cell_type": "markdown",
      "metadata": {
        "id": "2-4Y4kqc2YBB"
      },
      "source": [
        "# Raspberry Pi"
      ]
    },
    {
      "cell_type": "markdown",
      "metadata": {
        "id": "SKg-Lj_j2a5J"
      },
      "source": [
        "> SSH in with local IP: pi@192.168.1.242\n",
        ">\n",
        "> Run commands here or attach to TMUX session with: tmux attach\n",
        ">> control+b to link to tmux commands, then press:\n",
        ">>> 'd' to disconnect\n",
        ">>>\n",
        ">>> 's' to change sessions\n",
        ">>>\n",
        ">>> '$' to rename session\n",
        ">\n",
        "> To connect via VNC, first SSH in, and in a tmux session run: startx\n",
        ">\n",
        "> otherwise there will be no active gui desktop to view\n",
        "\n"
      ]
    },
    {
      "cell_type": "markdown",
      "metadata": {
        "id": "AJs0gsCJ-_AW"
      },
      "source": [
        "# ToDo"
      ]
    },
    {
      "cell_type": "markdown",
      "metadata": {
        "id": "_JNTTYdme2hm"
      },
      "source": [
        ">## Code Cleanup"
      ]
    },
    {
      "cell_type": "markdown",
      "metadata": {
        "id": "O1r7pTCCYRCf"
      },
      "source": [
        ">>### File Organization"
      ]
    },
    {
      "cell_type": "markdown",
      "metadata": {
        "id": "9VP4qPmGYU2h"
      },
      "source": [
        ">>> The files should be reorganized and split so that they are easier to swap between.\n",
        ">>>\n",
        ">>> For what is currently the frame.py and aotw.py module should become packages\n",
        ">>>\n",
        ">>> frame\n",
        ">>>> coda.py\n",
        ">>>>> Should house the Data class and the Meta class\n",
        ">>>>>\n",
        ">>>>> Static methods could probably be moved here outside of the Meta class\n",
        ">>>>\n",
        ">>>> spotify.py\n",
        ">>>>> All music datatypes should rest here\n",
        ">>>> \n",
        ">>>> discord.py\n",
        ">>>>> All discord related datatypes should rest here, ie: User, Category\n",
        ">>>>\n",
        ">>>> bot.py\n",
        ">>>>> The bot frame should probably have it own file, given that it will be the most complex of the bunch, and this way all \"commands\" are in the same space alone without distractions.\n",
        ">>>\n",
        ">>> aotw\n",
        ">>>> coda.py\n",
        ">>>>> Should house the Meta class\n",
        ">>>>>\n",
        ">>>>> Static methods could probably be moved here outside of the Meta class\n",
        ">>>>\n",
        ">>>> spotify.py\n",
        ">>>>> All music datatypes should rest here\n",
        ">>>> \n",
        ">>>> discord.py\n",
        ">>>>> All discord related datatypes should rest here, ie: User, Category\n",
        ">>>>\n",
        ">>>> bot.py\n",
        ">>>>> The bot frame should probably have it own file, given that it will be the most complex of the bunch, and this way all \"commands\" are in the same space alone without distractions.\n"
      ]
    },
    {
      "cell_type": "markdown",
      "metadata": {
        "id": "F8xmUH5TJ2v_"
      },
      "source": [
        ">>### Type Compatability"
      ]
    },
    {
      "cell_type": "markdown",
      "metadata": {
        "id": "femiWKUnKB85"
      },
      "source": [
        ">>> This one is important for insuring ease of use down the line.\n",
        ">>>\n",
        ">>> Every time one of the classes defined within the bot_manager library is used as a parameter for a function or method, it should ALWAYS accept the object of the type itself, as well as ANY other bit of data that could be used to get that object.\n",
        ">>>> all Albums should accept the frame.Album type, as well as uri, or spotify links.\n",
        ">>>> all discord Users should acceps the frame.User type, the discord User type, the uri, or the discord id.\n",
        ">>>> at a bare minimum they should always take the frame.{class} type and the uri, use judgment on a case to case basis for what else should be added\n",
        ">>>\n",
        ">>> The best way to do this might be to define a function to do the conversion you need rather then manually coding each one. I have been throwing functions like that into the Meta classes as static methods, bring it up with me if you dont like that solution, I am open to changing the organization based on what is easiest.\n",
        ">>>\n",
        ">>> Remember that not all of them need to be converted to the Object type, some of them need to be converted to the uri, but it will always be either the uri or the object."
      ]
    },
    {
      "cell_type": "markdown",
      "metadata": {
        "id": "IbcMT-8YBl7b"
      },
      "source": [
        ">>### Type Hints"
      ]
    },
    {
      "cell_type": "markdown",
      "metadata": {
        "id": "npo5egDMBza3"
      },
      "source": [
        ">>> Every Function and Method needs type hints for both Parameters and Returns. \n",
        ">>>> There will be many cases of having Multiple possible types, for an object type or a string type (for uri). some will have 3 types or possibly even more. \n",
        ">>>>\n",
        ">>>> This may not look amazing but the key is if you are using a good IDE like pycharm, it should be able to tell you about the function you are calling without you having to manually check.\n",
        ">>>>\n",
        ">>>> There is a chance there are a couple of None types thrown in with the current type hints, I am fairly sure these can be deleted.\n",
        ">>>\n",
        ">>> Every class also needs type hints for their attributes, as well as internally within every local and global variable.\n",
        ">>>> There is a chance with the current organization that the code will not run with some type hints for classes that have not been initialized. if this is the case leave a ToDo with the problematic type and a note saying that the code will not run with the propper type hint.\n",
        ">>>\n",
        ">>> For every type defined within this program use the outermost superclass that is possible.\n",
        ">>>> For most classes like aotw.Album this would be the adjacent class within the frame module: frame.Album\n",
        ">>>>\n",
        ">>>> all aotw.Album instances return True when asked isinstance() of a superclass of the instance.\n",
        ">>>>\n",
        ">>>> some classes that superclass native objects like dict should not search for the superclass, because they likely require the specific use of what was defined in the subclass"
      ]
    },
    {
      "cell_type": "markdown",
      "metadata": {
        "id": "eUqo8vIDBqfW"
      },
      "source": [
        ">>### Documentation"
      ]
    },
    {
      "cell_type": "markdown",
      "metadata": {
        "id": "GL1RYd6NHbRd"
      },
      "source": [
        ">>> Every Function, Class, Method should have documentation on its use.\n",
        ">>>> This Documentation will be doubled in the \"bot_manager Overview\" secion of this Document, I will work on this intermittently but quite frankly this isnt a massive priority"
      ]
    },
    {
      "cell_type": "markdown",
      "metadata": {
        "id": "Sw2v6CmwesVf"
      },
      "source": [
        ">## Known Bugs"
      ]
    },
    {
      "cell_type": "markdown",
      "metadata": {
        "id": "95AMDDugPZ_U"
      },
      "source": [
        ">>### !review {args}"
      ]
    },
    {
      "cell_type": "markdown",
      "metadata": {
        "id": "VId9J-RJwlWK"
      },
      "source": [
        ">>>When using !review {spotify album} command with a spotify link, and not just the default !review command with no argument, it sets up the form correctly but when it tries to save the review and display the finished review it throws an error.\n",
        ">>>> The reason for this is likely because when it saves the review it grabs the album from the bot metadata for the current album of the week, it should pull from the album given as an argument."
      ]
    },
    {
      "cell_type": "markdown",
      "metadata": {
        "id": "p8hnJijlnpAh"
      },
      "source": [
        ""
      ]
    },
    {
      "cell_type": "markdown",
      "metadata": {
        "id": "WoOTDnEXemyt"
      },
      "source": [
        ">## Server Design"
      ]
    },
    {
      "cell_type": "markdown",
      "metadata": {
        "id": "0IqrtrAnXeWG"
      },
      "source": [
        ">>### Meta Channels"
      ]
    },
    {
      "cell_type": "markdown",
      "metadata": {
        "id": "D8K1oNTzXkBY"
      },
      "source": [
        ">>> * Trophy room\n",
        ">>>> Here we should have all the albums of the week listed, as well as the final composite review of the album. this should also house a record of the current album of the week"
      ]
    },
    {
      "cell_type": "markdown",
      "metadata": {
        "id": "8KyhFA4YV7ME"
      },
      "source": [
        ">>### User Roles"
      ]
    },
    {
      "cell_type": "markdown",
      "metadata": {
        "id": "zNdqBzUOWAbx"
      },
      "source": [
        ">>> Normal users should be able to set their own roles\n",
        ">>>> * Category related rolls will eventually be an addition I want to add\n",
        ">>>>> Once multiple categories are set up, a user should be able to set their a role that associates them with ONE category of their liking.\n",
        ">>>>>\n",
        ">>>>> Users with the role associated with that category should have some kind of bonus in that category, ie: being able to set 2 raffles for that category in the case of the AOTW bot"
      ]
    },
    {
      "cell_type": "markdown",
      "metadata": {
        "id": "oTlc4j4iYTiy"
      },
      "source": [
        ">>### Categories\n",
        ">> (More backend development needed before these can be added)"
      ]
    },
    {
      "cell_type": "markdown",
      "metadata": {
        "id": "tQmFLiI_A_0l"
      },
      "source": [
        ">>>#### (BOSS) Metal Zone"
      ]
    },
    {
      "cell_type": "markdown",
      "metadata": {
        "id": "lmtoy09grKmL"
      },
      "source": [
        ">>>#### Comedy Corner"
      ]
    },
    {
      "cell_type": "markdown",
      "metadata": {
        "id": "3wFHuv5KYt3C"
      },
      "source": [
        ">>>#### Prog Central"
      ]
    },
    {
      "cell_type": "markdown",
      "metadata": {
        "id": "io8AsMGxYpEV"
      },
      "source": [
        ">>>#### Jazz Club"
      ]
    },
    {
      "cell_type": "markdown",
      "metadata": {
        "id": "tjXwPTJgrV6c"
      },
      "source": [
        ">>>#### Musicals and Soundtracks"
      ]
    },
    {
      "cell_type": "markdown",
      "metadata": {
        "id": "-0BTRnxLg-ot"
      },
      "source": [
        ">## Backend and Prep"
      ]
    },
    {
      "cell_type": "markdown",
      "metadata": {
        "id": "vvnqJB0o4KTp"
      },
      "source": [
        ">>### Setting Propper Data Properties"
      ]
    },
    {
      "cell_type": "markdown",
      "metadata": {
        "id": "LyUeMXN_9bfk"
      },
      "source": [
        ">>> All data must be stored by the class, and on the local database in primitive data types, or lists or dictionaries of primitive data types\n",
        ">>>\n",
        ">>> This means anything that is an object defined within this package, should store only its URI\n",
        ">>>\n",
        ">>> However nearly any time information is called from a datatype defined within the program, the whole object is needed, so properties need to be set so that it always returns the object, but only stores the URI\n",
        ">>>\n",
        ">>> This should pull from the data types listed in the same package (ie the frame.Album should reference frame.Artist) \n",
        ">>>\n",
        ">>>This means there needs to be an equivelant override for the subclasses (ie aotw.Album will need to have a property to return aotw.Artist IF IT EXISTS, but not aotw.Track because that will never be created, it can just be left with the default frame.Track)\n",
        ">>>\n",
        ">>> On top of all of this there should also be genre properties for tracks and albums, that just go up to the artist and get the genres listed for them.\n",
        ">>>\n",
        ">>> This means Genres will be stored in the artist but can be viewed from Tracks, Albums or Artists"
      ]
    },
    {
      "cell_type": "markdown",
      "metadata": {
        "id": "stld9Ak14Al2"
      },
      "source": [
        ">>### Build New Data Frames"
      ]
    },
    {
      "cell_type": "markdown",
      "metadata": {
        "id": "kC0NiPxAwT3Y"
      },
      "source": [
        ">>>#### Track"
      ]
    },
    {
      "cell_type": "markdown",
      "metadata": {
        "id": "3LrzeL-MwbCR"
      },
      "source": [
        ">>>> Inside the Frame module, should work just like the album: first searching the local database for an instince of the track, and if not there then generating one from the spotify servers\n",
        ">>>>\n",
        ">>>> Should store the following data:\n",
        ">>>>> Track Name\n",
        ">>>>>\n",
        ">>>>> Album\n",
        ">>>>>\n",
        ">>>>> Artist"
      ]
    },
    {
      "cell_type": "markdown",
      "metadata": {
        "id": "xg0txIA1tWb4"
      },
      "source": [
        ">>>#### Artist class"
      ]
    },
    {
      "cell_type": "markdown",
      "metadata": {
        "id": "uLpLH4YctbTJ"
      },
      "source": [
        ">>>> Within the Frame module this should work just like the album works, first searching the local database for stored data, and if none are found then pulling from the spotify servers and generating a new file\n",
        ">>>>\n",
        ">>>> Relevant data to store:\n",
        ">>>>> Artist Name\n",
        ">>>>>\n",
        ">>>>> Listed Genres\n",
        ">>>>>\n",
        ">>>>> Releases\n",
        ">>>>>> This could pave way to some kind of system to let the chat know if a new album is out from a band that has been reviewed, tho I question how to do that without spamming the spotify servers checking every artist on a regular basis\n",
        ">>>>\n",
        ">>>> Within the AOTW Module we could also track how many albums have been reviewed"
      ]
    },
    {
      "cell_type": "markdown",
      "metadata": {
        "id": "DmPmJ7sHhDQ_"
      },
      "source": [
        ">## New Features (Existing Bots)"
      ]
    },
    {
      "cell_type": "markdown",
      "metadata": {
        "id": "wLT9ZFNrGRof"
      },
      "source": [
        ">>### Category Division"
      ]
    },
    {
      "cell_type": "markdown",
      "metadata": {
        "id": "P2-uyLGlUxx9"
      },
      "source": [
        ">>> Different categories with a set of rules. A copy of every game will sit in each category, but some categories will restrict the music choises to a set of rules"
      ]
    },
    {
      "cell_type": "markdown",
      "metadata": {
        "id": "GSARk_djVZoK"
      },
      "source": [
        ">>>#### Check Rules"
      ]
    },
    {
      "cell_type": "markdown",
      "metadata": {
        "id": "UMmmTyJ9X2-_"
      },
      "source": [
        ">>>> For everything where an album is chosen (ie, !raffle and even !review {album} if the album is specified) it should first check that the album (or any other music) fits the rules of the category"
      ]
    },
    {
      "cell_type": "markdown",
      "metadata": {
        "id": "unPuFmSYVOlz"
      },
      "source": [
        ">>>#### Set Rules"
      ]
    },
    {
      "cell_type": "markdown",
      "metadata": {
        "id": "2pWNtPF8YIMq"
      },
      "source": [
        ">>>> Inside the bot frame (meaning any bot will be able to do this) there should be a command (probably !rules) to set the rules within the category you are in. Only admins and mods should be able to use the command. Based on what I am seeing requested right now we should impliment the following usage:\n",
        ">>>>> !rules genre {list of accepted genres seperated by spaces}\n",
        ">>>>>> The command rules accepts the parameter \"genres\" to set the rule type, and the accepted genres \n",
        ">>>>>>\n",
        ">>>>>> The rule being that any of the listed genres should contain an item listed\n",
        ">>>>>>\n",
        ">>>>>> If you set !rules genre prog it should accept any artist that is listed under progressive, neo trad prog, progressive jazz fusion, anything that Contains the word 'prog'\n",
        ">>>>\n",
        ">>>> We must insure there is not problems with genres on very very small bands to do this."
      ]
    },
    {
      "cell_type": "markdown",
      "metadata": {
        "id": "zFntrkqcCoRR"
      },
      "source": [
        ">>### Artist Label"
      ]
    },
    {
      "cell_type": "markdown",
      "metadata": {
        "id": "FVSe-76KCtel"
      },
      "source": [
        ">>> Any time an album is listed it should also return the Artist name(s)"
      ]
    },
    {
      "cell_type": "markdown",
      "metadata": {
        "id": "K-cGZZwIBXWQ"
      },
      "source": [
        ">>### !notes (album-of-the-weel-bot)"
      ]
    },
    {
      "cell_type": "markdown",
      "metadata": {
        "id": "IJcMKozZBnbk"
      },
      "source": [
        ">>> This command should allow text based notes that get appended to the review of an album. just like the review command it should default to the album of the week but you should be able to do it to any album."
      ]
    },
    {
      "cell_type": "markdown",
      "metadata": {
        "id": "fdmZNULtAyE9"
      },
      "source": [
        ">>### !aotw (album-of-the-week-bot)"
      ]
    },
    {
      "cell_type": "markdown",
      "metadata": {
        "id": "9I0S8bIXA2YA"
      },
      "source": [
        ">>> This command should return the current album of the week in the given category"
      ]
    },
    {
      "cell_type": "markdown",
      "metadata": {
        "id": "u009uGa9afMn"
      },
      "source": [
        ">>### Profile Picture Update (album-of-the-week-bot)"
      ]
    },
    {
      "cell_type": "markdown",
      "metadata": {
        "id": "izf6qc-zajqg"
      },
      "source": [
        ">>> We should be able to make it so the profile picture of the AOTW bot is the album of the week in the main category.\n",
        ">>>\n",
        ">>> This will require the album class to deal with album art properly"
      ]
    },
    {
      "cell_type": "markdown",
      "metadata": {
        "id": "B9KgY0fChJGg"
      },
      "source": [
        ">## New Bots, and Minigames"
      ]
    },
    {
      "cell_type": "markdown",
      "metadata": {
        "id": "3bmrK2MC_s98"
      },
      "source": [
        ">>### New Music Bot (Unnamed)"
      ]
    },
    {
      "cell_type": "markdown",
      "metadata": {
        "id": "tcBmojoL_w2_"
      },
      "source": [
        ">>> A bot whos purpose is to manage listening parties for albums that no one has heard before.\n",
        ">>>> Each user sets a Genre raffle, this is a raffle for just a Genre of music\n",
        ">>>>\n",
        ">>>> On a schedule the bot picks a genre from the raffle pile\n",
        ">>>>\n",
        ">>>> The bot picks 3 albums from different bands in that chosen genre, and sends them in the chat.\n",
        ">>>>\n",
        ">>>> Each user has 1 hour to vote on what album they like the best, only given the short spofity previews to the albums\n",
        ">>>>\n",
        ">>>> Once the vote timer is up, a listening party starts with the highest voted album\n",
        ">>>>\n",
        ">>>> The users can review the album after the listening party\n",
        ">>>\n",
        ">>> https://github.com/echonest/pyechonest"
      ]
    },
    {
      "cell_type": "markdown",
      "metadata": {
        "id": "RxgvGTZNnrAZ"
      },
      "source": [
        ">## Raspberry Pi"
      ]
    },
    {
      "cell_type": "markdown",
      "metadata": {
        "id": "TGL7BMvFtlyR"
      },
      "source": [
        ">>### Set up Static Public IP for Ranged Access Via SSH"
      ]
    },
    {
      "cell_type": "markdown",
      "metadata": {
        "id": "z3dTV4HLt9G1"
      },
      "source": [
        ">>> This will probably have to happen through the router, unsure of the best route to do it."
      ]
    },
    {
      "cell_type": "markdown",
      "metadata": {
        "id": "_NkxK1yQbZW2"
      },
      "source": [
        "# New Update Checklist"
      ]
    }
  ]
}