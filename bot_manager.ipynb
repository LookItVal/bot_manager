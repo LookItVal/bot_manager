{
  "nbformat": 4,
  "nbformat_minor": 0,
  "metadata": {
    "colab": {
      "name": "bot_manager",
      "provenance": [],
      "collapsed_sections": [
        "P38k_hdFAKIT",
        "O1r7pTCCYRCf",
        "F8xmUH5TJ2v_",
        "IbcMT-8YBl7b",
        "eUqo8vIDBqfW",
        "Sw2v6CmwesVf",
        "95AMDDugPZ_U",
        "WoOTDnEXemyt",
        "0IqrtrAnXeWG",
        "8KyhFA4YV7ME",
        "oTlc4j4iYTiy",
        "fdmZNULtAyE9",
        "u009uGa9afMn",
        "3bmrK2MC_s98"
      ],
      "toc_visible": true,
      "authorship_tag": "ABX9TyM139DYrin7m2XlVAyQyi0v",
      "include_colab_link": true
    },
    "kernelspec": {
      "name": "python3",
      "display_name": "Python 3"
    },
    "language_info": {
      "name": "python"
    }
  },
  "cells": [
    {
      "cell_type": "markdown",
      "metadata": {
        "id": "view-in-github",
        "colab_type": "text"
      },
      "source": [
        "<a href=\"https://colab.research.google.com/github/LookItVal/bot_manager/blob/main/bot_manager.ipynb\" target=\"_parent\"><img src=\"https://colab.research.google.com/assets/colab-badge.svg\" alt=\"Open In Colab\"/></a>"
      ]
    },
    {
      "cell_type": "markdown",
      "metadata": {
        "id": "SrxvPIIz--Vq"
      },
      "source": [
        "# Discord Overview"
      ]
    },
    {
      "cell_type": "markdown",
      "metadata": {
        "id": "iXqk7256ADz1"
      },
      "source": [
        ">## Server Organization"
      ]
    },
    {
      "cell_type": "markdown",
      "metadata": {
        "id": "P38k_hdFAKIT"
      },
      "source": [
        ">## album-of-the-week-bot"
      ]
    },
    {
      "cell_type": "markdown",
      "metadata": {
        "id": "Y0IPlVCSAy9P"
      },
      "source": [
        ">>### !pick"
      ]
    },
    {
      "cell_type": "markdown",
      "metadata": {
        "id": "E4w4coXfF6RE"
      },
      "source": [
        ">>> Triggers the bot to pick an album of the week imediately (keeping in mind the 'picker' task will do this automatically every week)\n",
        ">>>\n",
        ">>> Pulls every raffle from the given category and at random chooses and album of the week.\n",
        ">>>\n",
        ">>> If there were raffles to pull from it should respond:\n",
        ">>>> A new album has been chosen for the week:\n",
        ">>>>\n",
        ">>>> The Album for this week is: {album}, which was chosen by:\n",
        ">>>>\n",
        ">>>> {users}\n",
        ">>>>\n",
        ">>>> {embed with album name hyperlinked to the spotify album}\n",
        ">>>\n",
        ">>> If there were no raffles to pull it should respond:\n",
        ">>>> No Raffles set for this category. There will be no Album for this week."
      ]
    },
    {
      "cell_type": "markdown",
      "metadata": {
        "id": "BY-tWBcAA3Kx"
      },
      "source": [
        ">>### !ping"
      ]
    },
    {
      "cell_type": "markdown",
      "metadata": {
        "id": "t79eWlnAFgQR"
      },
      "source": [
        ">>> Simple call and response command that comes standard with all bots within this server. Used to verify proper connection between the python client and the discord server.\n",
        ">>>\n",
        ">>> Bot should respond with:\n",
        ">>>> pong"
      ]
    },
    {
      "cell_type": "markdown",
      "metadata": {
        "id": "-WPbqXAOBEZh"
      },
      "source": [
        ">>### !raffle {arg}"
      ]
    },
    {
      "cell_type": "markdown",
      "metadata": {
        "id": "1hV_1f-4HY_2"
      },
      "source": [
        ">>> arg is optional, if given it should be a spotify link to an album.\n",
        ">>>\n",
        ">>> Sets the users personal raffle for the album of the week within that category.\n",
        ">>>\n",
        ">>> Each user can only have one raffle per category, if the user already has a raffle set it overwrites that raffle.\n",
        ">>>\n",
        ">>> Users can not change their raffle if their album is currently the album of the week. This prevents anyone from winning the raffle twice in a row.\n",
        ">>>\n",
        ">>> If raffle change is allowed (assuming user is not a current raffle winner) the bot should respond:\n",
        ">>>> Raffle Set.\n",
        ">>>\n",
        ">>> If the raffle change is not allowed because the user is currently a raffle winner the bot should respond:\n",
        ">>>> Cannot change raffle while your album has been picked.\n",
        ">>>\n",
        ">>> If no arg given with the command, the bot will inform you of your currently chosen raffle.\n",
        ">>>\n",
        ">>> If you have a currently picked raffle for the category the bot should respond:\n",
        ">>>> Your current raffle for this category is: {album}\n",
        ">>>>\n",
        ">>>> {embed with album name hyperlinked to spotify link to album}\n",
        ">>>\n",
        ">>> If you do not have a raffle set for the category the bot should respond:\n",
        ">>>> You currently have no chosen raffle. To set your raffle send \"!raffle\" followed by a spotify link to the album you would like to pick."
      ]
    },
    {
      "cell_type": "markdown",
      "metadata": {
        "id": "vIudnUoPA_IR"
      },
      "source": [
        ">>### !review {arg}"
      ]
    },
    {
      "cell_type": "markdown",
      "metadata": {
        "id": "QWjTK-UEKWU_"
      },
      "source": [
        ">>> arg is optional, if given it should be a spotify link to an album\n",
        ">>>\n",
        ">>> Begins a review process for an album. If an album is given as an argument it will review that album, if not it will review the current album of the week.\n",
        ">>>> NOTE: as of right now you can not review specific albums. If attempted, the bot will respond the following:\n",
        ">>>>> Sorry! This command has been shut off due to known bugs.\n",
        ">>>>>\n",
        ">>>>> You can still review the album of the week, just not specific albums.\n",
        ">>>>>\n",
        ">>>>> To Review the album of the week, simply send \"!review\" with no parameter and follow the prompts.\n",
        ">>>\n",
        ">>> Upon reviewing the bot will send an embed with the album title, and a question asking you to rate a specific aspect of the album from 1-10.\n",
        ">>>\n",
        ">>> The user is to respond with only a number from 1-10, the bot will not accept anything else.\n",
        ">>>\n",
        ">>> Once the user answers the bot will delete the users response and edit the embed to say the next question. there are 7 questions.\n",
        ">>>> KNOWN ERROR: The bot can be slow to edit the question. If the user answers the next question before the bot has edited the embed the bot will not recognize the response. I do not know if this problem can be solved unless we either 1: change the source code to the 'form' library, or 2: we write the whole thing by hand and dont use the 'form' library at all.\n",
        ">>>\n",
        ">>> Once all the questions have been answered, the bot will save the response, delete the previous embed and send a New embed with the finished list review.\n",
        ">>>\n",
        ">>> The bot will save a spot for 'Notes' with a null value, but there is currently no way to actually write notes yet. The notes will not get displayed unless its value is no longer null"
      ]
    },
    {
      "cell_type": "markdown",
      "metadata": {
        "id": "JRLeSNzpBIJB"
      },
      "source": [
        ">>### !schedule {args}"
      ]
    },
    {
      "cell_type": "markdown",
      "metadata": {
        "id": "EBcISt6_Nz1e"
      },
      "source": [
        ">>> arg is required, must be one of the following:\n",
        ">>>> A day of the week, not abreviated. capitalizations do not matter. ie: !schedule Monday\n",
        ">>>>\n",
        ">>>> A time of the day, in 24 hour time. ie: !schedule 17:00\n",
        ">>>>\n",
        ">>>> A Day of the week followed by a time of the day, following the same rules. ie: !schedule Monday 17:00\n",
        ">>>\n",
        ">>> Sets the timeline for when the Picker task runs the pick command. if only given on arg it only changes that argument and leaves the other the same.\n",
        ">>>\n",
        ">>> The bot responds with the newly set schedule, ie:\n",
        ">>>> Schedule set for Monday at 17:00"
      ]
    },
    {
      "cell_type": "markdown",
      "metadata": {
        "id": "ofgLMx86BQAn"
      },
      "source": [
        ">>### picker (task)"
      ]
    },
    {
      "cell_type": "markdown",
      "metadata": {
        "id": "QINIXBU2cN53"
      },
      "source": [
        ">>> Automatically run task that begins the moment the bot goes live. for every channel that has a schedule set, this will check if the current time is equal to the scheduled time.\n",
        ">>>\n",
        ">>> once the scheduled time has been met, it runs the same command as !pick\n",
        ">>>> KNOWN ERROR: If there is no schedule set when the bot begins running, the the picker will never run for that category, even if a new schedule is set for it. The only way to get it to run is if you set the schedule, then end the program and reopen it.\n",
        ">>>>\n",
        ">>>> The bot will update to new schedules without a reset, just not if there was originally no schedule set."
      ]
    },
    {
      "cell_type": "markdown",
      "metadata": {
        "id": "7jLI7xGr--tY"
      },
      "source": [
        "# bot_manager Overview"
      ]
    },
    {
      "cell_type": "markdown",
      "metadata": {
        "id": "AJs0gsCJ-_AW"
      },
      "source": [
        "# ToDo"
      ]
    },
    {
      "cell_type": "markdown",
      "metadata": {
        "id": "_JNTTYdme2hm"
      },
      "source": [
        ">## Code Cleanup"
      ]
    },
    {
      "cell_type": "markdown",
      "metadata": {
        "id": "O1r7pTCCYRCf"
      },
      "source": [
        ">>### File Organization"
      ]
    },
    {
      "cell_type": "markdown",
      "metadata": {
        "id": "9VP4qPmGYU2h"
      },
      "source": [
        ">>> The files should be reorganized and split so that they are easier to swap between.\n",
        ">>>\n",
        ">>> For what is currently the frame.py and aotw.py module should become packages\n",
        ">>>\n",
        ">>> frame\n",
        ">>>> coda.py\n",
        ">>>>> Should house the Data class and the Meta class\n",
        ">>>>>\n",
        ">>>>> Static methods could probably be moved here outside of the Meta class\n",
        ">>>>\n",
        ">>>> spotify.py\n",
        ">>>>> All music datatypes should rest here\n",
        ">>>> \n",
        ">>>> discord.py\n",
        ">>>>> All discord related datatypes should rest here, ie: User, Category\n",
        ">>>>\n",
        ">>>> bot.py\n",
        ">>>>> The bot frame should probably have it own file, given that it will be the most complex of the bunch, and this way all \"commands\" are in the same space alone without distractions.\n",
        ">>>\n",
        ">>> aotw\n",
        ">>>> coda.py\n",
        ">>>>> Should house the Meta class\n",
        ">>>>>\n",
        ">>>>> Static methods could probably be moved here outside of the Meta class\n",
        ">>>>\n",
        ">>>> spotify.py\n",
        ">>>>> All music datatypes should rest here\n",
        ">>>> \n",
        ">>>> discord.py\n",
        ">>>>> All discord related datatypes should rest here, ie: User, Category\n",
        ">>>>\n",
        ">>>> bot.py\n",
        ">>>>> The bot frame should probably have it own file, given that it will be the most complex of the bunch, and this way all \"commands\" are in the same space alone without distractions.\n"
      ]
    },
    {
      "cell_type": "markdown",
      "metadata": {
        "id": "F8xmUH5TJ2v_"
      },
      "source": [
        ">>### Type Compatability"
      ]
    },
    {
      "cell_type": "markdown",
      "metadata": {
        "id": "femiWKUnKB85"
      },
      "source": [
        ">>> This one is important for insuring ease of use down the line.\n",
        ">>>\n",
        ">>> Every time one of the classes defined within the bot_manager library is used as a parameter for a function or method, it should ALWAYS accept the object of the type itself, as well as ANY other bit of data that could be used to get that object.\n",
        ">>>> all Albums should accept the frame.Album type, as well as uri, or spotify links.\n",
        ">>>> all discord Users should acceps the frame.User type, the discord User type, the uri, or the discord id.\n",
        ">>>> at a bare minimum they should always take the frame.{class} type and the uri, use judgment on a case to case basis for what else should be added\n",
        ">>>\n",
        ">>> The best way to do this might be to define a function to do the conversion you need rather then manually coding each one. I have been throwing functions like that into the Meta classes as static methods, bring it up with me if you dont like that solution, I am open to changing the organization based on what is easiest.\n",
        ">>>\n",
        ">>> Remember that not all of them need to be converted to the Object type, some of them need to be converted to the uri, but it will always be either the uri or the object."
      ]
    },
    {
      "cell_type": "markdown",
      "metadata": {
        "id": "IbcMT-8YBl7b"
      },
      "source": [
        ">>### Type Hints"
      ]
    },
    {
      "cell_type": "markdown",
      "metadata": {
        "id": "npo5egDMBza3"
      },
      "source": [
        ">>> Every Function and Method needs type hints for both Parameters and Returns. \n",
        ">>>> There will be many cases of having Multiple possible types, for an object type or a string type (for uri). some will have 3 types or possibly even more. \n",
        ">>>>\n",
        ">>>> This may not look amazing but the key is if you are using a good IDE like pycharm, it should be able to tell you about the function you are calling without you having to manually check.\n",
        ">>>>\n",
        ">>>> There is a chance there are a couple of None types thrown in with the current type hints, I am fairly sure these can be deleted.\n",
        ">>>\n",
        ">>> Every class also needs type hints for their attributes, as well as internally within every local and global variable.\n",
        ">>>> There is a chance with the current organization that the code will not run with some type hints for classes that have not been initialized. if this is the case leave a ToDo with the problematic type and a note saying that the code will not run with the propper type hint.\n",
        ">>>\n",
        ">>> For every type defined within this program use the outermost superclass that is possible.\n",
        ">>>> For most classes like aotw.Album this would be the adjacent class within the frame module: frame.Album\n",
        ">>>>\n",
        ">>>> all aotw.Album instances return True when asked isinstance() of a superclass of the instance.\n",
        ">>>>\n",
        ">>>> some classes that superclass native objects like dict should not search for the superclass, because they likely require the specific use of what was defined in the subclass"
      ]
    },
    {
      "cell_type": "markdown",
      "metadata": {
        "id": "eUqo8vIDBqfW"
      },
      "source": [
        ">>### Documentation"
      ]
    },
    {
      "cell_type": "markdown",
      "metadata": {
        "id": "GL1RYd6NHbRd"
      },
      "source": [
        ">>> Every Function, Class, Method should have documentation on its use.\n",
        ">>>> This Documentation will be doubled in the \"bot_manager Overview\" secion of this Document, I will work on this intermittently but quite frankly this isnt a massive priority"
      ]
    },
    {
      "cell_type": "markdown",
      "metadata": {
        "id": "Sw2v6CmwesVf"
      },
      "source": [
        ">## Known Bugs"
      ]
    },
    {
      "cell_type": "markdown",
      "metadata": {
        "id": "95AMDDugPZ_U"
      },
      "source": [
        ">>### !review {args}"
      ]
    },
    {
      "cell_type": "markdown",
      "metadata": {
        "id": "VId9J-RJwlWK"
      },
      "source": [
        ">>>When using !review {spotify album} command with a spotify link, and not just the default !review command with no argument, it sets up the form correctly but when it tries to save the review and display the finished review it throws an error.\n",
        ">>>> The reason for this is likely because when it saves the review it grabs the album from the bot metadata for the current album of the week, it should pull from the album given as an argument."
      ]
    },
    {
      "cell_type": "markdown",
      "metadata": {
        "id": "WoOTDnEXemyt"
      },
      "source": [
        ">## Server Design"
      ]
    },
    {
      "cell_type": "markdown",
      "metadata": {
        "id": "0IqrtrAnXeWG"
      },
      "source": [
        ">>### Meta Channels"
      ]
    },
    {
      "cell_type": "markdown",
      "metadata": {
        "id": "D8K1oNTzXkBY"
      },
      "source": [
        ">>> * Server Description/Rule Room. \n",
        ">>>> This should be really simple, I dont want people to be turned off imediately from complexity\n",
        ">>>\n",
        ">>> * Role Selector\n",
        ">>>> Once advanced Roles are set up, users should be able to go into the room to select their roles."
      ]
    },
    {
      "cell_type": "markdown",
      "metadata": {
        "id": "8KyhFA4YV7ME"
      },
      "source": [
        ">>### User Roles"
      ]
    },
    {
      "cell_type": "markdown",
      "metadata": {
        "id": "zNdqBzUOWAbx"
      },
      "source": [
        ">>> Normal users should be able to set their own roles\n",
        ">>>> * Prefered Pronouns should be a role settable by the casual user\n",
        ">>>>\n",
        ">>>> * Category related rolls will eventually be an addition I want to add\n",
        ">>>>> Once multiple categories are set up, a user should be able to set their a role that associates them with ONE category of their liking.\n",
        ">>>>>\n",
        ">>>>> Users with the role associated with that category should have some kind of bonus in that category, ie: being able to set 2 raffles for that category in the case of the AOTW bot"
      ]
    },
    {
      "cell_type": "markdown",
      "metadata": {
        "id": "oTlc4j4iYTiy"
      },
      "source": [
        ">>### Categories\n",
        ">> (More backend development needed before these can be added)"
      ]
    },
    {
      "cell_type": "markdown",
      "metadata": {
        "id": "3wFHuv5KYt3C"
      },
      "source": [
        ">>>#### Prog Corner"
      ]
    },
    {
      "cell_type": "markdown",
      "metadata": {
        "id": "io8AsMGxYpEV"
      },
      "source": [
        ">>>#### Jazz Club"
      ]
    },
    {
      "cell_type": "markdown",
      "metadata": {
        "id": "-0BTRnxLg-ot"
      },
      "source": [
        ">## Backend and Prep"
      ]
    },
    {
      "cell_type": "markdown",
      "metadata": {
        "id": "DmPmJ7sHhDQ_"
      },
      "source": [
        ">## New Features (Existing Bots)"
      ]
    },
    {
      "cell_type": "markdown",
      "metadata": {
        "id": "fdmZNULtAyE9"
      },
      "source": [
        ">>### !aotw (album-of-the-week-bot)"
      ]
    },
    {
      "cell_type": "markdown",
      "metadata": {
        "id": "9I0S8bIXA2YA"
      },
      "source": [
        ">>> This command should return the current album of the week in the given category"
      ]
    },
    {
      "cell_type": "markdown",
      "metadata": {
        "id": "u009uGa9afMn"
      },
      "source": [
        ">>### Profile Picture Update (album-of-the-week-bot)"
      ]
    },
    {
      "cell_type": "markdown",
      "metadata": {
        "id": "izf6qc-zajqg"
      },
      "source": [
        ">>> We should be able to make it so the profile picture of the AOTW bot is the album of the week in the main category.\n",
        ">>>\n",
        ">>> This will require the album class to deal with album art properly"
      ]
    },
    {
      "cell_type": "markdown",
      "metadata": {
        "id": "B9KgY0fChJGg"
      },
      "source": [
        ">## New Bots, and Minigames"
      ]
    },
    {
      "cell_type": "markdown",
      "metadata": {
        "id": "3bmrK2MC_s98"
      },
      "source": [
        ">>### New Music Bot (Unnamed)"
      ]
    },
    {
      "cell_type": "markdown",
      "metadata": {
        "id": "tcBmojoL_w2_"
      },
      "source": [
        ">>> A bot whos purpose is to manage listening parties for albums that no one has heard before.\n",
        ">>>> Each user sets a Genre raffle, this is a raffle for just a Genre of music\n",
        ">>>>\n",
        ">>>> On a schedule the bot picks a genre from the raffle pile\n",
        ">>>>\n",
        ">>>> The bot picks 3 albums from different bands in that chosen genre, and sends them in the chat.\n",
        ">>>>\n",
        ">>>> Each user has 1 hour to vote on what album they like the best, only given the short spofity previews to the albums\n",
        ">>>>\n",
        ">>>> Once the vote timer is up, a listening party starts with the highest voted album\n",
        ">>>>\n",
        ">>>> The users can review the album after the listening party\n",
        ">>>\n",
        ">>> https://github.com/echonest/pyechonest"
      ]
    }
  ]
}